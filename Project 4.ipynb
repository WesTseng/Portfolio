{
 "cells": [
  {
   "cell_type": "markdown",
   "id": "c51bf8ca",
   "metadata": {},
   "source": [
    "Import libraries"
   ]
  },
  {
   "cell_type": "code",
   "execution_count": 1,
   "id": "13d876d4",
   "metadata": {},
   "outputs": [],
   "source": [
    "from bs4 import BeautifulSoup as bs\n",
    "import requests"
   ]
  },
  {
   "cell_type": "code",
   "execution_count": null,
   "id": "cee51fcd",
   "metadata": {},
   "outputs": [],
   "source": []
  },
  {
   "cell_type": "markdown",
   "id": "1cd153ba",
   "metadata": {},
   "source": [
    "TASK 1:\n",
    "Retrieve the summary of a particular James Bond film presented in the information box"
   ]
  },
  {
   "cell_type": "code",
   "execution_count": 35,
   "id": "d285280f",
   "metadata": {},
   "outputs": [],
   "source": [
    "result = requests.get(\"https://en.wikipedia.org/wiki/Dr._No_(film)\")\n",
    "\n",
    "soup = bs(result.content)\n",
    "contents = soup.prettify()\n",
    "\n",
    "contents;"
   ]
  },
  {
   "cell_type": "code",
   "execution_count": 34,
   "id": "eddc2b2b",
   "metadata": {},
   "outputs": [],
   "source": [
    "summary = soup.find(class_=\"infobox vevent\")\n",
    "summary_rows = summary.find_all(\"tr\")"
   ]
  },
  {
   "cell_type": "code",
   "execution_count": 4,
   "id": "4c6974a6",
   "metadata": {
    "scrolled": true
   },
   "outputs": [
    {
     "data": {
      "text/plain": [
       "{'Film Title': 'Dr. No',\n",
       " 'Directed by': ['Terence Young'],\n",
       " 'Screenplay by': ['Richard Maibaum', 'Johanna Harwood', 'Berkely Mather'],\n",
       " 'Based on': ['Dr. No', 'Ian Fleming'],\n",
       " 'Produced by': ['Harry Saltzman', 'Albert R. Broccoli'],\n",
       " 'Starring': ['Sean Connery',\n",
       "  'Ursula Andress',\n",
       "  'Joseph Wiseman',\n",
       "  'Jack Lord',\n",
       "  'Anthony Dawson',\n",
       "  'Zena Marshall',\n",
       "  'John Kitzmiller',\n",
       "  'Eunice Gayson',\n",
       "  'Bernard Lee'],\n",
       " 'Cinematography': ['Ted Moore'],\n",
       " 'Edited by': ['Peter R. Hunt'],\n",
       " 'Music by': ['Monty Norman'],\n",
       " 'Production company': ['Eon Productions'],\n",
       " 'Distributed by': ['United Artists'],\n",
       " 'Release date': '5 October 1962 ( 1962-10-05 ) (United Kingdom)',\n",
       " 'Running time': '109 minutes',\n",
       " 'Countries': ['[1]', '[2]'],\n",
       " 'Language': 'English',\n",
       " 'Budget': '$1.1 million',\n",
       " 'Box office': '$59.5 million'}"
      ]
     },
     "execution_count": 4,
     "metadata": {},
     "output_type": "execute_result"
    }
   ],
   "source": [
    "#Create empty dictionary for storing info retrieved from summary box\n",
    "film_summary = {}\n",
    "\n",
    "#retrieve items one by one in sections with multiple td under one th\n",
    "def retrieve_content_value_1(data):\n",
    "    if data.find(\"a\"):\n",
    "        return [item.get_text(\" \",strip=True).replace(\"\\xa0\",\" \").replace(\"\\n\",\"\") for item in row.find_all(\"a\")]\n",
    "    else:\n",
    "        return data.get_text(\" \",strip=True).replace(\"\\xa0\",\" \").replace(\"\\n\",\"\")\n",
    "\n",
    "for index, row in enumerate(summary_rows):\n",
    "    if index == 0:\n",
    "        film_summary[\"Film Title\"] = row.find(\"th\").get_text(\" \",strip=True)\n",
    "    #index position 1 is skipped because it's the image\n",
    "    elif index == 1:\n",
    "        continue\n",
    "    else:\n",
    "        content_key = row.find(\"th\").get_text(\" \",strip=True)\n",
    "        content_value = retrieve_content_value_1(row.find(\"td\"))\n",
    "        film_summary[content_key] = content_value\n",
    "        \n",
    "film_summary\n",
    "\n",
    "#there are two problems with the data that will be cleaned later on\n",
    "#1. repeated information for Release date\n",
    "#2. Countries only showing the reference link rather than the actual countries"
   ]
  },
  {
   "cell_type": "code",
   "execution_count": null,
   "id": "45c2d0be",
   "metadata": {},
   "outputs": [],
   "source": []
  },
  {
   "cell_type": "markdown",
   "id": "363fa675",
   "metadata": {},
   "source": [
    "TASK 2: \n",
    "Retrieve summaries of all James Bond films presented in the information box"
   ]
  },
  {
   "cell_type": "code",
   "execution_count": 30,
   "id": "0556eb69",
   "metadata": {},
   "outputs": [],
   "source": [
    "result = requests.get(\"https://en.wikipedia.org/wiki/List_of_James_Bond_films\")\n",
    "\n",
    "soup = bs(result.content)\n",
    "contents = soup.prettify()\n",
    "\n",
    "contents;"
   ]
  },
  {
   "cell_type": "code",
   "execution_count": 6,
   "id": "91f46cfe",
   "metadata": {},
   "outputs": [
    {
     "data": {
      "text/plain": [
       "'/wiki/Dr._No_(film)'"
      ]
     },
     "execution_count": 6,
     "metadata": {},
     "output_type": "execute_result"
    }
   ],
   "source": [
    "films = soup.select(\".wikitable.plainrowheaders.sortable i\")\n",
    "films[0].a[\"href\"]"
   ]
  },
  {
   "cell_type": "code",
   "execution_count": 7,
   "id": "2856e094",
   "metadata": {},
   "outputs": [],
   "source": [
    "def retrieve_content_value_2(data):\n",
    "    if data.find(\"th\"):\n",
    "        return [item.get_text(\" \",strip=True).replace(\"\\xa0\",\" \") for item in row.find_all(\"td\")]\n",
    "    elif data.find(\"li\"):\n",
    "        return [text.replace(\"\\xa0\",\" \") for text in data.stripped_strings]\n",
    "    else:\n",
    "        return data.get_text(\" \",strip=True).replace(\"\\xa0\",\" \")\n",
    "\n",
    "#for removing unnecessary HTML scripts\n",
    "def html_tags_cleaning(soup):\n",
    "    for tags in soup.find_all([\"sup\",\"span\"]):\n",
    "        tags.decompose()\n",
    "    \n",
    "def retrieve_info_box(url):\n",
    "    \n",
    "    result = requests.get(url)\n",
    "    soup = bs(result.content)\n",
    "    summary = soup.find(class_=\"infobox vevent\")\n",
    "    summary_rows = summary.find_all(\"tr\")\n",
    "    \n",
    "    html_tags_cleaning(soup)\n",
    "    \n",
    "    film_summary = {}\n",
    "    for index, row in enumerate(summary_rows):\n",
    "        if index == 0:\n",
    "            film_summary[\"Film Title\"] = row.find(\"th\").get_text(\" \",strip=True)\n",
    "        else:\n",
    "            header = row.find(\"th\")\n",
    "            if header:\n",
    "                content_key = row.find(\"th\").get_text(\" \",strip=True)\n",
    "                content_value = retrieve_content_value_2(row.find(\"td\"))\n",
    "                film_summary[content_key] = content_value\n",
    "            \n",
    "    return film_summary"
   ]
  },
  {
   "cell_type": "code",
   "execution_count": 8,
   "id": "574175e9",
   "metadata": {
    "scrolled": true
   },
   "outputs": [
    {
     "data": {
      "text/plain": [
       "{'Film Title': 'Spectre',\n",
       " 'Directed by': 'Sam Mendes',\n",
       " 'Screenplay by': ['John Logan',\n",
       "  'Neal Purvis',\n",
       "  'Robert Wade',\n",
       "  'Jez Butterworth'],\n",
       " 'Story by': ['John Logan', 'Neal Purvis', 'Robert Wade'],\n",
       " 'Based on': 'James Bond by Ian Fleming',\n",
       " 'Produced by': ['Michael G. Wilson', 'Barbara Broccoli'],\n",
       " 'Starring': ['Daniel Craig',\n",
       "  'Christoph Waltz',\n",
       "  'Léa Seydoux',\n",
       "  'Ben Whishaw',\n",
       "  'Naomie Harris',\n",
       "  'Dave Bautista',\n",
       "  'Monica Bellucci',\n",
       "  'Ralph Fiennes'],\n",
       " 'Cinematography': 'Hoyte van Hoytema',\n",
       " 'Edited by': 'Lee Smith',\n",
       " 'Music by': 'Thomas Newman',\n",
       " 'Production companies': ['Eon Productions',\n",
       "  'Metro-Goldwyn-Mayer',\n",
       "  'Columbia Pictures'],\n",
       " 'Distributed by': 'Sony Pictures Releasing',\n",
       " 'Release date': ['26 October 2015',\n",
       "  '(United Kingdom)',\n",
       "  '6 November 2015',\n",
       "  '(United States)'],\n",
       " 'Running time': '148 minutes',\n",
       " 'Countries': ['United Kingdom', 'United States'],\n",
       " 'Language': 'English',\n",
       " 'Budget': '$245–300 million',\n",
       " 'Box office': '$880.7 million'}"
      ]
     },
     "execution_count": 8,
     "metadata": {},
     "output_type": "execute_result"
    }
   ],
   "source": [
    "retrieve_info_box(\"https://en.wikipedia.org/wiki/Spectre_(2015_film)\")"
   ]
  },
  {
   "cell_type": "code",
   "execution_count": 9,
   "id": "da650cde",
   "metadata": {},
   "outputs": [],
   "source": [
    "#extract summaries of all James Bond films one by one\n",
    "result = requests.get(\"https://en.wikipedia.org/wiki/List_of_James_Bond_films\")\n",
    "soup = bs(result.content)\n",
    "films = soup.select(\".wikitable.plainrowheaders.sortable i a\")\n",
    "\n",
    "wiki_url = \"https://en.wikipedia.org/\"\n",
    "\n",
    "film_info_list = []\n",
    "\n",
    "for index, film in enumerate(films):\n",
    "    try:\n",
    "        film_url = film[\"href\"]\n",
    "        full_url = wiki_url + film_url\n",
    "        title = film[\"title\"]\n",
    "    \n",
    "        film_info_list.append(retrieve_info_box(full_url))\n",
    "        \n",
    "    except Exception as exc:\n",
    "        print(film.get_text())\n",
    "        print(exc)"
   ]
  },
  {
   "cell_type": "code",
   "execution_count": null,
   "id": "0d953e33",
   "metadata": {},
   "outputs": [],
   "source": []
  },
  {
   "cell_type": "markdown",
   "id": "fb4e004a",
   "metadata": {},
   "source": [
    "TASK 3:\n",
    "Data cleaning"
   ]
  },
  {
   "cell_type": "code",
   "execution_count": 10,
   "id": "8c67dac8",
   "metadata": {
    "scrolled": true
   },
   "outputs": [
    {
     "name": "stdout",
     "output_type": "stream",
     "text": [
      "['109 minutes', '115 minutes', '110 minutes', '130 minutes', '117 minutes', '142 minutes', '120 minutes', '121 minutes', '125 minutes', '125 minutes', '126 minutes', '127 minutes', '131 minutes', '131 minutes', '131 minutes', '133 minutes', '130 minutes', '119 minutes', '125 minutes', '133 minutes', '144 minutes', '106 minutes', '143 minutes', '148 minutes', '163 minutes', '131 minutes', '134 minutes']\n"
     ]
    }
   ],
   "source": [
    "#running time of each film\n",
    "print([film[\"Running time\"] for film in film_info_list])"
   ]
  },
  {
   "cell_type": "code",
   "execution_count": 11,
   "id": "84a795f7",
   "metadata": {},
   "outputs": [],
   "source": [
    "#convert film running time from str to int\n",
    "def runtime_to_int(running_time):\n",
    "    if running_time == \"N/A\":\n",
    "        return None\n",
    "    else:\n",
    "        value = int(running_time.split(\" \")[0])\n",
    "        return value\n",
    "\n",
    "for film in film_info_list:\n",
    "    film[\"Running time (numeral)\"] = runtime_to_int(film.get('Running time'))"
   ]
  },
  {
   "cell_type": "code",
   "execution_count": 12,
   "id": "c4ccffdb",
   "metadata": {},
   "outputs": [
    {
     "name": "stdout",
     "output_type": "stream",
     "text": [
      "[109, 115, 110, 130, 117, 142, 120, 121, 125, 125, 126, 127, 131, 131, 131, 133, 130, 119, 125, 133, 144, 106, 143, 148, 163, 131, 134]\n"
     ]
    }
   ],
   "source": [
    "print([film.get(\"Running time (numeral)\") for film in film_info_list])"
   ]
  },
  {
   "cell_type": "code",
   "execution_count": 13,
   "id": "98ddfed3",
   "metadata": {},
   "outputs": [
    {
     "data": {
      "text/plain": [
       "{'Film Title': 'Thunderball',\n",
       " 'Directed by': 'Terence Young',\n",
       " 'Screenplay by': 'Richard Maibaum John Hopkins Original Screenplay: Jack Whittingham',\n",
       " 'Story by': 'Kevin McClory Jack Whittingham Ian Fleming',\n",
       " 'Based on': 'Thunderball by Ian Fleming',\n",
       " 'Produced by': 'Kevin McClory',\n",
       " 'Starring': 'Sean Connery Claudine Auger Adolfo Celi Luciana Paluzzi Rik Van Nutter',\n",
       " 'Cinematography': 'Ted Moore',\n",
       " 'Edited by': 'Peter Hunt Ernest Hosler',\n",
       " 'Music by': 'John Barry',\n",
       " 'Production company': 'Eon Productions',\n",
       " 'Distributed by': 'United Artists',\n",
       " 'Release date': ['9 December 1965',\n",
       "  '(Tokyo, premiere)',\n",
       "  '29 December 1965',\n",
       "  '(United Kingdom)'],\n",
       " 'Running time': '130 minutes',\n",
       " 'Countries': 'United Kingdom United States',\n",
       " 'Language': 'English',\n",
       " 'Budget': '$9 million',\n",
       " 'Box office': '$141.2 million',\n",
       " 'Running time (numeral)': 130}"
      ]
     },
     "execution_count": 13,
     "metadata": {},
     "output_type": "execute_result"
    }
   ],
   "source": [
    "#testing runtime_to_int function\n",
    "film_info_list[3]"
   ]
  },
  {
   "cell_type": "code",
   "execution_count": 14,
   "id": "dd97a9aa",
   "metadata": {
    "scrolled": true
   },
   "outputs": [
    {
     "name": "stdout",
     "output_type": "stream",
     "text": [
      "['$1.1 million', '$2 million', '$3 million', '$9 million', '$9.5 million', '$7 million', '$7.2 million', '$7 million', '$7 million', '$13.5 million', '$34 million', '$28 million', '$27.5 million', '$30 million', '$40 million', '$32 million', '$60 million', '$110 million', '$135 million', '$142 million', '$150 million', '$200–230 million', '$150–200 million', '$245–300 million', '$250–301 million', '$12 million', '$36 million']\n"
     ]
    }
   ],
   "source": [
    "#budget of each film\n",
    "print([film[\"Budget\"] for film in film_info_list])"
   ]
  },
  {
   "cell_type": "code",
   "execution_count": 15,
   "id": "10eadef5",
   "metadata": {
    "scrolled": true
   },
   "outputs": [
    {
     "name": "stdout",
     "output_type": "stream",
     "text": [
      "['$59.5 million', '$79 million', '$125 million', '$141.2 million', '$111.6 million', '$82 million', '$116 million', '$161.8 million', '$97.6 million', '$185.4 million', '$210.3 million', '$195.3 million', '$187.5 million', '$152.4 million', '$191.2 million', '$156.1 million', '$352.1 million', '$333 million', '$361.8 million', '$431.9 million', '$616.5 million', '$589.6 million', '$1.109 billion', '$880.7 million', 'N/A', '$41.7 million', '$160 million']\n"
     ]
    }
   ],
   "source": [
    "#box office of each film\n",
    "print([film.get(\"Box office\", \"N/A\") for film in film_info_list])"
   ]
  },
  {
   "cell_type": "code",
   "execution_count": 16,
   "id": "fd648535",
   "metadata": {},
   "outputs": [],
   "source": [
    "#import regular expression for converting strings to integer\n",
    "import re"
   ]
  },
  {
   "cell_type": "code",
   "execution_count": 17,
   "id": "3b07a727",
   "metadata": {},
   "outputs": [
    {
     "name": "stdout",
     "output_type": "stream",
     "text": [
      "18.7\n"
     ]
    }
   ],
   "source": [
    "#testing converting the Budget and Box office from str to int using re\n",
    "num = r'\\d+\\.*\\d*'\n",
    "print(re.search(num, \"$18.7 million\").group())"
   ]
  },
  {
   "cell_type": "code",
   "execution_count": 18,
   "id": "53ee91aa",
   "metadata": {},
   "outputs": [
    {
     "name": "stdout",
     "output_type": "stream",
     "text": [
      "877.0\n"
     ]
    }
   ],
   "source": [
    "#convert budget and box office from str to flt\n",
    "def money_to_int(money):\n",
    "    if money == \"N/A\":\n",
    "        return None\n",
    "    else:\n",
    "        value = float(re.search(num, money).group())\n",
    "        return value\n",
    "print(money_to_int(\"$877 million\"))"
   ]
  },
  {
   "cell_type": "code",
   "execution_count": 19,
   "id": "390848db",
   "metadata": {},
   "outputs": [],
   "source": [
    "for film in film_info_list:\n",
    "    film[\"Budget (numeral)\"] = money_to_int(film.get('Budget'))\n",
    "    film[\"Box office (numeral)\"] = money_to_int(film.get('Box office', \"N/A\"))"
   ]
  },
  {
   "cell_type": "code",
   "execution_count": 20,
   "id": "3e537c7e",
   "metadata": {},
   "outputs": [
    {
     "data": {
      "text/plain": [
       "{'Film Title': 'You Only Live Twice',\n",
       " 'Directed by': 'Lewis Gilbert',\n",
       " 'Screenplay by': 'Roald Dahl',\n",
       " 'Additional story material by': ['Harold Jack Bloom'],\n",
       " 'Based on': 'You Only Live Twice by Ian Fleming',\n",
       " 'Produced by': 'Harry Saltzman Albert R. Broccoli',\n",
       " 'Starring': 'Sean Connery',\n",
       " 'Cinematography': 'Freddie Young',\n",
       " 'Edited by': 'Peter R. Hunt',\n",
       " 'Music by': 'John Barry',\n",
       " 'Production company': 'Eon Productions',\n",
       " 'Distributed by': 'United Artists',\n",
       " 'Release date': ['12 June 1967',\n",
       "  '(London, premiere)',\n",
       "  '13 June 1967',\n",
       "  '(United Kingdom)'],\n",
       " 'Running time': '117 minutes',\n",
       " 'Countries': 'United Kingdom United States',\n",
       " 'Languages': 'English Japanese',\n",
       " 'Budget': '$9.5 million',\n",
       " 'Box office': '$111.6 million',\n",
       " 'Running time (numeral)': 117,\n",
       " 'Budget (numeral)': 9.5,\n",
       " 'Box office (numeral)': 111.6}"
      ]
     },
     "execution_count": 20,
     "metadata": {},
     "output_type": "execute_result"
    }
   ],
   "source": [
    "#testing money_to_int function\n",
    "film_info_list[4]"
   ]
  },
  {
   "cell_type": "code",
   "execution_count": null,
   "id": "16e5a9b5",
   "metadata": {},
   "outputs": [],
   "source": []
  },
  {
   "cell_type": "markdown",
   "id": "3857de9b",
   "metadata": {},
   "source": [
    "TASK 4: Convert data into csv"
   ]
  },
  {
   "cell_type": "code",
   "execution_count": 21,
   "id": "b5061c6a",
   "metadata": {},
   "outputs": [],
   "source": [
    "import pandas as pd"
   ]
  },
  {
   "cell_type": "code",
   "execution_count": 22,
   "id": "691f53bf",
   "metadata": {},
   "outputs": [],
   "source": [
    "df = pd.DataFrame(film_info_list)"
   ]
  },
  {
   "cell_type": "code",
   "execution_count": 23,
   "id": "06684aa8",
   "metadata": {},
   "outputs": [
    {
     "data": {
      "text/html": [
       "<div>\n",
       "<style scoped>\n",
       "    .dataframe tbody tr th:only-of-type {\n",
       "        vertical-align: middle;\n",
       "    }\n",
       "\n",
       "    .dataframe tbody tr th {\n",
       "        vertical-align: top;\n",
       "    }\n",
       "\n",
       "    .dataframe thead th {\n",
       "        text-align: right;\n",
       "    }\n",
       "</style>\n",
       "<table border=\"1\" class=\"dataframe\">\n",
       "  <thead>\n",
       "    <tr style=\"text-align: right;\">\n",
       "      <th></th>\n",
       "      <th>Film Title</th>\n",
       "      <th>Directed by</th>\n",
       "      <th>Screenplay by</th>\n",
       "      <th>Based on</th>\n",
       "      <th>Produced by</th>\n",
       "      <th>Starring</th>\n",
       "      <th>Cinematography</th>\n",
       "      <th>Edited by</th>\n",
       "      <th>Music by</th>\n",
       "      <th>Production company</th>\n",
       "      <th>...</th>\n",
       "      <th>Budget (numeral)</th>\n",
       "      <th>Box office (numeral)</th>\n",
       "      <th>Adaptation by</th>\n",
       "      <th>Country</th>\n",
       "      <th>Story by</th>\n",
       "      <th>Additional story material by</th>\n",
       "      <th>Languages</th>\n",
       "      <th>Additional dialogue by</th>\n",
       "      <th>Production companies</th>\n",
       "      <th>Written by</th>\n",
       "    </tr>\n",
       "  </thead>\n",
       "  <tbody>\n",
       "    <tr>\n",
       "      <th>0</th>\n",
       "      <td>Dr. No</td>\n",
       "      <td>Terence Young</td>\n",
       "      <td>Richard Maibaum Johanna Harwood Berkely Mather</td>\n",
       "      <td>Dr. No by Ian Fleming</td>\n",
       "      <td>Harry Saltzman Albert R. Broccoli</td>\n",
       "      <td>Sean Connery Ursula Andress Joseph Wiseman Jac...</td>\n",
       "      <td>Ted Moore</td>\n",
       "      <td>Peter R. Hunt</td>\n",
       "      <td>Monty Norman</td>\n",
       "      <td>Eon Productions</td>\n",
       "      <td>...</td>\n",
       "      <td>1.1</td>\n",
       "      <td>59.5</td>\n",
       "      <td>NaN</td>\n",
       "      <td>NaN</td>\n",
       "      <td>NaN</td>\n",
       "      <td>NaN</td>\n",
       "      <td>NaN</td>\n",
       "      <td>NaN</td>\n",
       "      <td>NaN</td>\n",
       "      <td>NaN</td>\n",
       "    </tr>\n",
       "    <tr>\n",
       "      <th>1</th>\n",
       "      <td>From Russia with Love</td>\n",
       "      <td>Terence Young</td>\n",
       "      <td>Richard Maibaum</td>\n",
       "      <td>From Russia, with Love by Ian Fleming</td>\n",
       "      <td>Harry Saltzman Albert R. Broccoli</td>\n",
       "      <td>Sean Connery Pedro Armendáriz Lotte Lenya Robe...</td>\n",
       "      <td>Ted Moore</td>\n",
       "      <td>Peter R. Hunt</td>\n",
       "      <td>John Barry</td>\n",
       "      <td>Eon Productions</td>\n",
       "      <td>...</td>\n",
       "      <td>2.0</td>\n",
       "      <td>79.0</td>\n",
       "      <td>[Johanna Harwood]</td>\n",
       "      <td>United Kingdom</td>\n",
       "      <td>NaN</td>\n",
       "      <td>NaN</td>\n",
       "      <td>NaN</td>\n",
       "      <td>NaN</td>\n",
       "      <td>NaN</td>\n",
       "      <td>NaN</td>\n",
       "    </tr>\n",
       "    <tr>\n",
       "      <th>2</th>\n",
       "      <td>Goldfinger</td>\n",
       "      <td>Guy Hamilton</td>\n",
       "      <td>[Richard Maibaum, Paul Dehn]</td>\n",
       "      <td>Goldfinger by Ian Fleming</td>\n",
       "      <td>[Harry Saltzman, Albert R. Broccoli]</td>\n",
       "      <td>[Sean Connery, Honor Blackman, Gert Fröbe, Shi...</td>\n",
       "      <td>Ted Moore</td>\n",
       "      <td>Peter R. Hunt</td>\n",
       "      <td>John Barry</td>\n",
       "      <td>Eon Productions</td>\n",
       "      <td>...</td>\n",
       "      <td>3.0</td>\n",
       "      <td>125.0</td>\n",
       "      <td>NaN</td>\n",
       "      <td>NaN</td>\n",
       "      <td>NaN</td>\n",
       "      <td>NaN</td>\n",
       "      <td>NaN</td>\n",
       "      <td>NaN</td>\n",
       "      <td>NaN</td>\n",
       "      <td>NaN</td>\n",
       "    </tr>\n",
       "  </tbody>\n",
       "</table>\n",
       "<p>3 rows × 28 columns</p>\n",
       "</div>"
      ],
      "text/plain": [
       "              Film Title    Directed by  \\\n",
       "0                 Dr. No  Terence Young   \n",
       "1  From Russia with Love  Terence Young   \n",
       "2             Goldfinger   Guy Hamilton   \n",
       "\n",
       "                                    Screenplay by  \\\n",
       "0  Richard Maibaum Johanna Harwood Berkely Mather   \n",
       "1                                 Richard Maibaum   \n",
       "2                    [Richard Maibaum, Paul Dehn]   \n",
       "\n",
       "                                Based on  \\\n",
       "0                  Dr. No by Ian Fleming   \n",
       "1  From Russia, with Love by Ian Fleming   \n",
       "2              Goldfinger by Ian Fleming   \n",
       "\n",
       "                            Produced by  \\\n",
       "0     Harry Saltzman Albert R. Broccoli   \n",
       "1     Harry Saltzman Albert R. Broccoli   \n",
       "2  [Harry Saltzman, Albert R. Broccoli]   \n",
       "\n",
       "                                            Starring Cinematography  \\\n",
       "0  Sean Connery Ursula Andress Joseph Wiseman Jac...      Ted Moore   \n",
       "1  Sean Connery Pedro Armendáriz Lotte Lenya Robe...      Ted Moore   \n",
       "2  [Sean Connery, Honor Blackman, Gert Fröbe, Shi...      Ted Moore   \n",
       "\n",
       "       Edited by      Music by Production company  ... Budget (numeral)  \\\n",
       "0  Peter R. Hunt  Monty Norman    Eon Productions  ...              1.1   \n",
       "1  Peter R. Hunt    John Barry    Eon Productions  ...              2.0   \n",
       "2  Peter R. Hunt    John Barry    Eon Productions  ...              3.0   \n",
       "\n",
       "  Box office (numeral)      Adaptation by         Country Story by  \\\n",
       "0                 59.5                NaN             NaN      NaN   \n",
       "1                 79.0  [Johanna Harwood]  United Kingdom      NaN   \n",
       "2                125.0                NaN             NaN      NaN   \n",
       "\n",
       "  Additional story material by Languages  Additional dialogue by  \\\n",
       "0                          NaN       NaN                     NaN   \n",
       "1                          NaN       NaN                     NaN   \n",
       "2                          NaN       NaN                     NaN   \n",
       "\n",
       "   Production companies  Written by  \n",
       "0                   NaN         NaN  \n",
       "1                   NaN         NaN  \n",
       "2                   NaN         NaN  \n",
       "\n",
       "[3 rows x 28 columns]"
      ]
     },
     "execution_count": 23,
     "metadata": {},
     "output_type": "execute_result"
    }
   ],
   "source": [
    "df.head(3)"
   ]
  },
  {
   "cell_type": "code",
   "execution_count": 24,
   "id": "92878883",
   "metadata": {},
   "outputs": [],
   "source": [
    "df.to_csv(\"bond_film.csv\")"
   ]
  },
  {
   "cell_type": "code",
   "execution_count": null,
   "id": "0e877421",
   "metadata": {},
   "outputs": [],
   "source": []
  },
  {
   "cell_type": "markdown",
   "id": "867b1bc8",
   "metadata": {},
   "source": [
    "TASK 5: Simple analysis of the films"
   ]
  },
  {
   "cell_type": "markdown",
   "id": "99c38f68",
   "metadata": {},
   "source": [
    "Top 3 longest James Bond films"
   ]
  },
  {
   "cell_type": "code",
   "execution_count": 25,
   "id": "540c05de",
   "metadata": {},
   "outputs": [
    {
     "data": {
      "text/html": [
       "<div>\n",
       "<style scoped>\n",
       "    .dataframe tbody tr th:only-of-type {\n",
       "        vertical-align: middle;\n",
       "    }\n",
       "\n",
       "    .dataframe tbody tr th {\n",
       "        vertical-align: top;\n",
       "    }\n",
       "\n",
       "    .dataframe thead th {\n",
       "        text-align: right;\n",
       "    }\n",
       "</style>\n",
       "<table border=\"1\" class=\"dataframe\">\n",
       "  <thead>\n",
       "    <tr style=\"text-align: right;\">\n",
       "      <th></th>\n",
       "      <th>Film Title</th>\n",
       "      <th>Directed by</th>\n",
       "      <th>Screenplay by</th>\n",
       "      <th>Based on</th>\n",
       "      <th>Produced by</th>\n",
       "      <th>Starring</th>\n",
       "      <th>Cinematography</th>\n",
       "      <th>Edited by</th>\n",
       "      <th>Music by</th>\n",
       "      <th>Production company</th>\n",
       "      <th>...</th>\n",
       "      <th>Budget (numeral)</th>\n",
       "      <th>Box office (numeral)</th>\n",
       "      <th>Adaptation by</th>\n",
       "      <th>Country</th>\n",
       "      <th>Story by</th>\n",
       "      <th>Additional story material by</th>\n",
       "      <th>Languages</th>\n",
       "      <th>Additional dialogue by</th>\n",
       "      <th>Production companies</th>\n",
       "      <th>Written by</th>\n",
       "    </tr>\n",
       "  </thead>\n",
       "  <tbody>\n",
       "    <tr>\n",
       "      <th>24</th>\n",
       "      <td>No Time to Die</td>\n",
       "      <td>Cary Joji Fukunaga</td>\n",
       "      <td>[Neal Purvis, Robert Wade, Cary Joji Fukunaga,...</td>\n",
       "      <td>James Bond by Ian Fleming</td>\n",
       "      <td>[Michael G. Wilson, Barbara Broccoli]</td>\n",
       "      <td>[Daniel Craig, Rami Malek, Léa Seydoux, Lashan...</td>\n",
       "      <td>Linus Sandgren</td>\n",
       "      <td>[Elliot Graham, Tom Cross]</td>\n",
       "      <td>Hans Zimmer</td>\n",
       "      <td>NaN</td>\n",
       "      <td>...</td>\n",
       "      <td>250.0</td>\n",
       "      <td>NaN</td>\n",
       "      <td>NaN</td>\n",
       "      <td>NaN</td>\n",
       "      <td>[Neal Purvis, Robert Wade, Cary Joji Fukunaga]</td>\n",
       "      <td>NaN</td>\n",
       "      <td>NaN</td>\n",
       "      <td>NaN</td>\n",
       "      <td>[Metro-Goldwyn-Mayer, Eon Productions]</td>\n",
       "      <td>NaN</td>\n",
       "    </tr>\n",
       "    <tr>\n",
       "      <th>23</th>\n",
       "      <td>Spectre</td>\n",
       "      <td>Sam Mendes</td>\n",
       "      <td>[John Logan, Neal Purvis, Robert Wade, Jez But...</td>\n",
       "      <td>James Bond by Ian Fleming</td>\n",
       "      <td>[Michael G. Wilson, Barbara Broccoli]</td>\n",
       "      <td>[Daniel Craig, Christoph Waltz, Léa Seydoux, B...</td>\n",
       "      <td>Hoyte van Hoytema</td>\n",
       "      <td>Lee Smith</td>\n",
       "      <td>Thomas Newman</td>\n",
       "      <td>NaN</td>\n",
       "      <td>...</td>\n",
       "      <td>245.0</td>\n",
       "      <td>880.7</td>\n",
       "      <td>NaN</td>\n",
       "      <td>NaN</td>\n",
       "      <td>[John Logan, Neal Purvis, Robert Wade]</td>\n",
       "      <td>NaN</td>\n",
       "      <td>NaN</td>\n",
       "      <td>NaN</td>\n",
       "      <td>[Eon Productions, Metro-Goldwyn-Mayer, Columbi...</td>\n",
       "      <td>NaN</td>\n",
       "    </tr>\n",
       "    <tr>\n",
       "      <th>20</th>\n",
       "      <td>Casino Royale</td>\n",
       "      <td>Martin Campbell</td>\n",
       "      <td>[Neal Purvis, Robert Wade, Paul Haggis]</td>\n",
       "      <td>Casino Royale by Ian Fleming</td>\n",
       "      <td>[Michael G. Wilson, Barbara Broccoli]</td>\n",
       "      <td>[Daniel Craig, Eva Green, Mads Mikkelsen, Jeff...</td>\n",
       "      <td>Phil Méheux</td>\n",
       "      <td>Stuart Baird</td>\n",
       "      <td>David Arnold</td>\n",
       "      <td>NaN</td>\n",
       "      <td>...</td>\n",
       "      <td>150.0</td>\n",
       "      <td>616.5</td>\n",
       "      <td>NaN</td>\n",
       "      <td>NaN</td>\n",
       "      <td>NaN</td>\n",
       "      <td>NaN</td>\n",
       "      <td>NaN</td>\n",
       "      <td>NaN</td>\n",
       "      <td>[Eon Productions, Metro-Goldwyn-Mayer Pictures...</td>\n",
       "      <td>NaN</td>\n",
       "    </tr>\n",
       "  </tbody>\n",
       "</table>\n",
       "<p>3 rows × 28 columns</p>\n",
       "</div>"
      ],
      "text/plain": [
       "        Film Title         Directed by  \\\n",
       "24  No Time to Die  Cary Joji Fukunaga   \n",
       "23         Spectre          Sam Mendes   \n",
       "20   Casino Royale     Martin Campbell   \n",
       "\n",
       "                                        Screenplay by  \\\n",
       "24  [Neal Purvis, Robert Wade, Cary Joji Fukunaga,...   \n",
       "23  [John Logan, Neal Purvis, Robert Wade, Jez But...   \n",
       "20            [Neal Purvis, Robert Wade, Paul Haggis]   \n",
       "\n",
       "                        Based on                            Produced by  \\\n",
       "24     James Bond by Ian Fleming  [Michael G. Wilson, Barbara Broccoli]   \n",
       "23     James Bond by Ian Fleming  [Michael G. Wilson, Barbara Broccoli]   \n",
       "20  Casino Royale by Ian Fleming  [Michael G. Wilson, Barbara Broccoli]   \n",
       "\n",
       "                                             Starring     Cinematography  \\\n",
       "24  [Daniel Craig, Rami Malek, Léa Seydoux, Lashan...     Linus Sandgren   \n",
       "23  [Daniel Craig, Christoph Waltz, Léa Seydoux, B...  Hoyte van Hoytema   \n",
       "20  [Daniel Craig, Eva Green, Mads Mikkelsen, Jeff...        Phil Méheux   \n",
       "\n",
       "                     Edited by       Music by Production company  ...  \\\n",
       "24  [Elliot Graham, Tom Cross]    Hans Zimmer                NaN  ...   \n",
       "23                   Lee Smith  Thomas Newman                NaN  ...   \n",
       "20                Stuart Baird   David Arnold                NaN  ...   \n",
       "\n",
       "   Budget (numeral) Box office (numeral) Adaptation by Country  \\\n",
       "24            250.0                  NaN           NaN     NaN   \n",
       "23            245.0                880.7           NaN     NaN   \n",
       "20            150.0                616.5           NaN     NaN   \n",
       "\n",
       "                                          Story by  \\\n",
       "24  [Neal Purvis, Robert Wade, Cary Joji Fukunaga]   \n",
       "23          [John Logan, Neal Purvis, Robert Wade]   \n",
       "20                                             NaN   \n",
       "\n",
       "   Additional story material by Languages  Additional dialogue by  \\\n",
       "24                          NaN       NaN                     NaN   \n",
       "23                          NaN       NaN                     NaN   \n",
       "20                          NaN       NaN                     NaN   \n",
       "\n",
       "                                 Production companies  Written by  \n",
       "24             [Metro-Goldwyn-Mayer, Eon Productions]         NaN  \n",
       "23  [Eon Productions, Metro-Goldwyn-Mayer, Columbi...         NaN  \n",
       "20  [Eon Productions, Metro-Goldwyn-Mayer Pictures...         NaN  \n",
       "\n",
       "[3 rows x 28 columns]"
      ]
     },
     "execution_count": 25,
     "metadata": {},
     "output_type": "execute_result"
    }
   ],
   "source": [
    "film_length = df.sort_values([\"Running time (numeral)\"], ascending=False)\n",
    "film_length.head(3)"
   ]
  },
  {
   "cell_type": "code",
   "execution_count": 26,
   "id": "596fe8cb",
   "metadata": {},
   "outputs": [],
   "source": [
    "df['Profit'] = df['Box office (numeral)'] - df['Budget (numeral)']"
   ]
  },
  {
   "cell_type": "markdown",
   "id": "8d25dea8",
   "metadata": {},
   "source": [
    "Top 3 grossing James Bond films"
   ]
  },
  {
   "cell_type": "code",
   "execution_count": 27,
   "id": "d94c460d",
   "metadata": {},
   "outputs": [
    {
     "data": {
      "text/html": [
       "<div>\n",
       "<style scoped>\n",
       "    .dataframe tbody tr th:only-of-type {\n",
       "        vertical-align: middle;\n",
       "    }\n",
       "\n",
       "    .dataframe tbody tr th {\n",
       "        vertical-align: top;\n",
       "    }\n",
       "\n",
       "    .dataframe thead th {\n",
       "        text-align: right;\n",
       "    }\n",
       "</style>\n",
       "<table border=\"1\" class=\"dataframe\">\n",
       "  <thead>\n",
       "    <tr style=\"text-align: right;\">\n",
       "      <th></th>\n",
       "      <th>Film Title</th>\n",
       "      <th>Directed by</th>\n",
       "      <th>Screenplay by</th>\n",
       "      <th>Based on</th>\n",
       "      <th>Produced by</th>\n",
       "      <th>Starring</th>\n",
       "      <th>Cinematography</th>\n",
       "      <th>Edited by</th>\n",
       "      <th>Music by</th>\n",
       "      <th>Production company</th>\n",
       "      <th>...</th>\n",
       "      <th>Box office (numeral)</th>\n",
       "      <th>Adaptation by</th>\n",
       "      <th>Country</th>\n",
       "      <th>Story by</th>\n",
       "      <th>Additional story material by</th>\n",
       "      <th>Languages</th>\n",
       "      <th>Additional dialogue by</th>\n",
       "      <th>Production companies</th>\n",
       "      <th>Written by</th>\n",
       "      <th>Profit</th>\n",
       "    </tr>\n",
       "  </thead>\n",
       "  <tbody>\n",
       "    <tr>\n",
       "      <th>23</th>\n",
       "      <td>Spectre</td>\n",
       "      <td>Sam Mendes</td>\n",
       "      <td>[John Logan, Neal Purvis, Robert Wade, Jez But...</td>\n",
       "      <td>James Bond by Ian Fleming</td>\n",
       "      <td>[Michael G. Wilson, Barbara Broccoli]</td>\n",
       "      <td>[Daniel Craig, Christoph Waltz, Léa Seydoux, B...</td>\n",
       "      <td>Hoyte van Hoytema</td>\n",
       "      <td>Lee Smith</td>\n",
       "      <td>Thomas Newman</td>\n",
       "      <td>NaN</td>\n",
       "      <td>...</td>\n",
       "      <td>880.7</td>\n",
       "      <td>NaN</td>\n",
       "      <td>NaN</td>\n",
       "      <td>[John Logan, Neal Purvis, Robert Wade]</td>\n",
       "      <td>NaN</td>\n",
       "      <td>NaN</td>\n",
       "      <td>NaN</td>\n",
       "      <td>[Eon Productions, Metro-Goldwyn-Mayer, Columbi...</td>\n",
       "      <td>NaN</td>\n",
       "      <td>635.7</td>\n",
       "    </tr>\n",
       "    <tr>\n",
       "      <th>20</th>\n",
       "      <td>Casino Royale</td>\n",
       "      <td>Martin Campbell</td>\n",
       "      <td>[Neal Purvis, Robert Wade, Paul Haggis]</td>\n",
       "      <td>Casino Royale by Ian Fleming</td>\n",
       "      <td>[Michael G. Wilson, Barbara Broccoli]</td>\n",
       "      <td>[Daniel Craig, Eva Green, Mads Mikkelsen, Jeff...</td>\n",
       "      <td>Phil Méheux</td>\n",
       "      <td>Stuart Baird</td>\n",
       "      <td>David Arnold</td>\n",
       "      <td>NaN</td>\n",
       "      <td>...</td>\n",
       "      <td>616.5</td>\n",
       "      <td>NaN</td>\n",
       "      <td>NaN</td>\n",
       "      <td>NaN</td>\n",
       "      <td>NaN</td>\n",
       "      <td>NaN</td>\n",
       "      <td>NaN</td>\n",
       "      <td>[Eon Productions, Metro-Goldwyn-Mayer Pictures...</td>\n",
       "      <td>NaN</td>\n",
       "      <td>466.5</td>\n",
       "    </tr>\n",
       "    <tr>\n",
       "      <th>21</th>\n",
       "      <td>Quantum of Solace</td>\n",
       "      <td>Marc Forster</td>\n",
       "      <td>NaN</td>\n",
       "      <td>James Bond by Ian Fleming</td>\n",
       "      <td>[Michael G. Wilson, Barbara Broccoli]</td>\n",
       "      <td>[Daniel Craig, Olga Kurylenko, Mathieu Amalric...</td>\n",
       "      <td>Roberto Schaefer</td>\n",
       "      <td>[Matt Chesse, Richard Pearson]</td>\n",
       "      <td>David Arnold</td>\n",
       "      <td>NaN</td>\n",
       "      <td>...</td>\n",
       "      <td>589.6</td>\n",
       "      <td>NaN</td>\n",
       "      <td>NaN</td>\n",
       "      <td>NaN</td>\n",
       "      <td>NaN</td>\n",
       "      <td>NaN</td>\n",
       "      <td>NaN</td>\n",
       "      <td>Eon Productions Metro-Goldwyn-Mayer Pictures C...</td>\n",
       "      <td>[Paul Haggis, Neal Purvis, Robert Wade]</td>\n",
       "      <td>389.6</td>\n",
       "    </tr>\n",
       "  </tbody>\n",
       "</table>\n",
       "<p>3 rows × 29 columns</p>\n",
       "</div>"
      ],
      "text/plain": [
       "           Film Title      Directed by  \\\n",
       "23            Spectre       Sam Mendes   \n",
       "20      Casino Royale  Martin Campbell   \n",
       "21  Quantum of Solace     Marc Forster   \n",
       "\n",
       "                                        Screenplay by  \\\n",
       "23  [John Logan, Neal Purvis, Robert Wade, Jez But...   \n",
       "20            [Neal Purvis, Robert Wade, Paul Haggis]   \n",
       "21                                                NaN   \n",
       "\n",
       "                        Based on                            Produced by  \\\n",
       "23     James Bond by Ian Fleming  [Michael G. Wilson, Barbara Broccoli]   \n",
       "20  Casino Royale by Ian Fleming  [Michael G. Wilson, Barbara Broccoli]   \n",
       "21     James Bond by Ian Fleming  [Michael G. Wilson, Barbara Broccoli]   \n",
       "\n",
       "                                             Starring     Cinematography  \\\n",
       "23  [Daniel Craig, Christoph Waltz, Léa Seydoux, B...  Hoyte van Hoytema   \n",
       "20  [Daniel Craig, Eva Green, Mads Mikkelsen, Jeff...        Phil Méheux   \n",
       "21  [Daniel Craig, Olga Kurylenko, Mathieu Amalric...   Roberto Schaefer   \n",
       "\n",
       "                         Edited by       Music by Production company  ...  \\\n",
       "23                       Lee Smith  Thomas Newman                NaN  ...   \n",
       "20                    Stuart Baird   David Arnold                NaN  ...   \n",
       "21  [Matt Chesse, Richard Pearson]   David Arnold                NaN  ...   \n",
       "\n",
       "   Box office (numeral) Adaptation by Country  \\\n",
       "23                880.7           NaN     NaN   \n",
       "20                616.5           NaN     NaN   \n",
       "21                589.6           NaN     NaN   \n",
       "\n",
       "                                  Story by Additional story material by  \\\n",
       "23  [John Logan, Neal Purvis, Robert Wade]                          NaN   \n",
       "20                                     NaN                          NaN   \n",
       "21                                     NaN                          NaN   \n",
       "\n",
       "   Languages Additional dialogue by  \\\n",
       "23       NaN                    NaN   \n",
       "20       NaN                    NaN   \n",
       "21       NaN                    NaN   \n",
       "\n",
       "                                 Production companies  \\\n",
       "23  [Eon Productions, Metro-Goldwyn-Mayer, Columbi...   \n",
       "20  [Eon Productions, Metro-Goldwyn-Mayer Pictures...   \n",
       "21  Eon Productions Metro-Goldwyn-Mayer Pictures C...   \n",
       "\n",
       "                                 Written by  Profit  \n",
       "23                                      NaN   635.7  \n",
       "20                                      NaN   466.5  \n",
       "21  [Paul Haggis, Neal Purvis, Robert Wade]   389.6  \n",
       "\n",
       "[3 rows x 29 columns]"
      ]
     },
     "execution_count": 27,
     "metadata": {},
     "output_type": "execute_result"
    }
   ],
   "source": [
    "profit = df.sort_values(['Profit'], ascending=False)\n",
    "profit.head(3)"
   ]
  },
  {
   "cell_type": "code",
   "execution_count": null,
   "id": "5e2dc1bb",
   "metadata": {},
   "outputs": [],
   "source": []
  }
 ],
 "metadata": {
  "kernelspec": {
   "display_name": "Python 3",
   "language": "python",
   "name": "python3"
  },
  "language_info": {
   "codemirror_mode": {
    "name": "ipython",
    "version": 3
   },
   "file_extension": ".py",
   "mimetype": "text/x-python",
   "name": "python",
   "nbconvert_exporter": "python",
   "pygments_lexer": "ipython3",
   "version": "3.8.8"
  }
 },
 "nbformat": 4,
 "nbformat_minor": 5
}
